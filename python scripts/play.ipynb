{
 "cells": [
  {
   "cell_type": "code",
   "execution_count": 1,
   "metadata": {},
   "outputs": [],
   "source": [
    "import numpy as np\n",
    "from tqdm import tqdm\n",
    "from utils import read_data, read_query, read_output, knn, distances, split_normal_distribution, _recall, recall"
   ]
  },
  {
   "cell_type": "code",
   "execution_count": 2,
   "metadata": {},
   "outputs": [],
   "source": [
    "data_path = '../data/dummy-data.bin'\n",
    "query_path = '../data/dummy-queries.bin'\n",
    "\n",
    "output_path_1 = '../data/dummy-output-seqscan.bin'\n",
    "output_path_2 = '../data/dummy-output-seqscanrange.bin'"
   ]
  },
  {
   "cell_type": "code",
   "execution_count": 3,
   "metadata": {},
   "outputs": [
    {
     "name": "stdout",
     "output_type": "stream",
     "text": [
      "==========\n",
      "data shape (10000, 102)\n",
      "query shape (100, 104)\n",
      "==========\n",
      "output1 shape (100, 100)\n",
      "output2 shape (100, 100)\n",
      "==== KNN ====\n"
     ]
    },
    {
     "name": "stderr",
     "output_type": "stream",
     "text": [
      "100%|██████████| 100/100 [00:01<00:00, 58.89it/s]"
     ]
    },
    {
     "name": "stdout",
     "output_type": "stream",
     "text": [
      "==========\n",
      "output_true shape (100, 100)\n",
      "dist shape (10000, 100)\n",
      "==========\n",
      "dist_true shape (100, 100)\n",
      "dist_output1 shape (100, 100)\n"
     ]
    },
    {
     "name": "stderr",
     "output_type": "stream",
     "text": [
      "\n"
     ]
    }
   ],
   "source": [
    "# read data, query and output1, output2\n",
    "data = read_data(data_path)\n",
    "query = read_query(query_path) \n",
    "output1 = read_output(output_path_1, query.shape[0]).astype(int)\n",
    "output2 = read_output(output_path_2, query.shape[0]).astype(int)\n",
    "# calculate distances of outputs\n",
    "\n",
    "print(\"=\"*10)\n",
    "print(\"data shape\", data.shape)\n",
    "print(\"query shape\", query.shape)\n",
    "print(\"=\"*10)\n",
    "print(\"output1 shape\", output1.shape)\n",
    "print(\"output2 shape\", output2.shape)\n",
    "print(\"=\"*4,\"KNN\",\"=\"*4)\n",
    "\n",
    "\n",
    "# True knn\n",
    "output_true, dist, dist_true = knn(data, query, 100)\n",
    "dist_output1 = distances(output1, dist)\n",
    "#dist_output2 = distances(output2, dist)\n",
    "\n",
    "print(\"=\"*10)\n",
    "print(\"output_true shape\", output_true.shape)\n",
    "print(\"dist shape\", dist.shape)\n",
    "print(\"=\"*10)\n",
    "print(\"dist_true shape\", dist_true.shape)\n",
    "print(\"dist_output1 shape\", dist_output1.shape)\n"
   ]
  },
  {
   "cell_type": "markdown",
   "metadata": {},
   "source": [
    "testing __'_recall'__ : simple recall between two 1D vectors "
   ]
  },
  {
   "cell_type": "code",
   "execution_count": 4,
   "metadata": {},
   "outputs": [
    {
     "name": "stdout",
     "output_type": "stream",
     "text": [
      "3 / 4\n"
     ]
    },
    {
     "data": {
      "text/plain": [
       "0.75"
      ]
     },
     "execution_count": 4,
     "metadata": {},
     "output_type": "execute_result"
    }
   ],
   "source": [
    "a = np.array([5,10,20,30,np.inf])\n",
    "a_idx = np.array([0,1,2,3,5])\n",
    "\n",
    "b = np.array([10,20,30,40,40])\n",
    "b_idx = np.array([1,2,3,4,4])\n",
    "\n",
    "# replace inf with max value and return the index of the max value\n",
    "a[a == np.inf] = np.max(a[np.isfinite(a)])\n",
    "a.argmax()\n",
    "\n",
    "\n",
    "_recall(a_idx,b_idx,a,b)\n"
   ]
  },
  {
   "cell_type": "code",
   "execution_count": 5,
   "metadata": {},
   "outputs": [
    {
     "name": "stdout",
     "output_type": "stream",
     "text": [
      "4 / 5\n"
     ]
    },
    {
     "data": {
      "text/plain": [
       "0.8"
      ]
     },
     "execution_count": 5,
     "metadata": {},
     "output_type": "execute_result"
    }
   ],
   "source": [
    "a = np.array([5,10,20,30,40])\n",
    "a_idx = np.array([0,1,2,3,5])\n",
    "\n",
    "b = np.array([10,20,30,40,40])\n",
    "b_idx = np.array([1,2,3,4,4])\n",
    "\n",
    "# replace inf with max value and return the index of the max value\n",
    "a[a == np.inf] = np.max(a[np.isfinite(a)])\n",
    "a.argmax()\n",
    "\n",
    "\n",
    "_recall(a_idx,b_idx,a,b)"
   ]
  },
  {
   "cell_type": "code",
   "execution_count": 6,
   "metadata": {},
   "outputs": [
    {
     "name": "stdout",
     "output_type": "stream",
     "text": [
      "4 / 5\n"
     ]
    },
    {
     "data": {
      "text/plain": [
       "0.8"
      ]
     },
     "execution_count": 6,
     "metadata": {},
     "output_type": "execute_result"
    }
   ],
   "source": [
    "a = np.array([5,10,20,30,35])\n",
    "a_idx = np.array([0,1,2,3,5])\n",
    "\n",
    "b = np.array([5,10,20,30,40])\n",
    "b_idx = np.array([0,1,2,3,6])\n",
    "\n",
    "# replace inf with max value and return the index of the max value\n",
    "a[a == np.inf] = np.max(a[np.isfinite(a)])\n",
    "a.argmax()\n",
    "\n",
    "\n",
    "_recall(a_idx,b_idx,a,b)"
   ]
  },
  {
   "cell_type": "markdown",
   "metadata": {},
   "source": [
    "testing _recall_"
   ]
  },
  {
   "cell_type": "code",
   "execution_count": 7,
   "metadata": {},
   "outputs": [
    {
     "name": "stdout",
     "output_type": "stream",
     "text": [
      "1 / 100\n",
      "2 / 100\n",
      "3 / 100\n",
      "18 / 100\n",
      "0 / 100\n",
      "1 / 100\n",
      "5 / 100\n",
      "2 / 100\n",
      "3 / 100\n",
      "23 / 100\n",
      "7 / 100\n",
      "1 / 100\n",
      "64 / 100\n",
      "3 / 100\n",
      "29 / 100\n",
      "1 / 100\n",
      "92 / 100\n",
      "5 / 100\n",
      "5 / 100\n",
      "0 / 100\n",
      "1 / 100\n",
      "7 / 100\n",
      "71 / 100\n",
      "0 / 100\n",
      "3 / 100\n",
      "2 / 100\n",
      "32 / 100\n",
      "0 / 100\n",
      "4 / 100\n",
      "7 / 100\n",
      "5 / 100\n",
      "0 / 100\n",
      "2 / 100\n",
      "9 / 100\n",
      "2 / 100\n",
      "2 / 100\n",
      "1 / 100\n",
      "10 / 100\n",
      "0 / 100\n",
      "2 / 100\n",
      "4 / 100\n",
      "17 / 100\n",
      "0 / 100\n",
      "3 / 100\n",
      "6 / 100\n",
      "1 / 100\n",
      "3 / 100\n",
      "4 / 100\n",
      "25 / 100\n",
      "0 / 100\n",
      "30 / 100\n",
      "4 / 100\n",
      "4 / 100\n",
      "1 / 100\n",
      "2 / 100\n",
      "5 / 100\n",
      "3 / 100\n",
      "0 / 100\n",
      "0 / 100\n",
      "1 / 100\n",
      "1 / 100\n",
      "2 / 100\n",
      "17 / 100\n",
      "1 / 100\n",
      "5 / 100\n",
      "5 / 100\n",
      "3 / 100\n",
      "1 / 100\n",
      "6 / 100\n",
      "5 / 100\n",
      "9 / 100\n",
      "0 / 100\n",
      "19 / 100\n",
      "2 / 100\n",
      "12 / 100\n",
      "0 / 100\n",
      "65 / 100\n",
      "0 / 100\n",
      "13 / 100\n",
      "1 / 100\n",
      "3 / 100\n",
      "2 / 100\n",
      "25 / 100\n",
      "0 / 100\n",
      "2 / 100\n",
      "1 / 100\n",
      "4 / 100\n",
      "0 / 100\n",
      "14 / 100\n",
      "4 / 100\n",
      "4 / 100\n",
      "6 / 100\n",
      "5 / 100\n",
      "10 / 100\n",
      "1 / 100\n",
      "5 / 100\n",
      "2 / 100\n",
      "49 / 100\n",
      "0 / 100\n",
      "17 / 100\n"
     ]
    },
    {
     "data": {
      "text/plain": [
       "0.08589999999999991"
      ]
     },
     "execution_count": 7,
     "metadata": {},
     "output_type": "execute_result"
    }
   ],
   "source": [
    "recall(output_true, output1, dist_true, dist_output1)\n",
    "    "
   ]
  },
  {
   "cell_type": "code",
   "execution_count": 8,
   "metadata": {},
   "outputs": [
    {
     "name": "stdout",
     "output_type": "stream",
     "text": [
      "100 / 100\n",
      "100 / 100\n",
      "100 / 100\n",
      "100 / 100\n",
      "100 / 100\n",
      "100 / 100\n",
      "100 / 100\n",
      "100 / 100\n",
      "100 / 100\n",
      "100 / 100\n",
      "100 / 100\n",
      "100 / 100\n",
      "100 / 100\n",
      "100 / 100\n",
      "100 / 100\n",
      "100 / 100\n",
      "100 / 100\n",
      "100 / 100\n",
      "100 / 100\n",
      "100 / 100\n",
      "100 / 100\n",
      "100 / 100\n",
      "100 / 100\n",
      "100 / 100\n",
      "100 / 100\n",
      "100 / 100\n",
      "100 / 100\n",
      "100 / 100\n",
      "100 / 100\n",
      "100 / 100\n",
      "100 / 100\n",
      "100 / 100\n",
      "100 / 100\n",
      "100 / 100\n",
      "100 / 100\n",
      "100 / 100\n",
      "100 / 100\n",
      "100 / 100\n",
      "100 / 100\n",
      "100 / 100\n",
      "100 / 100\n",
      "100 / 100\n",
      "100 / 100\n",
      "100 / 100\n",
      "100 / 100\n",
      "100 / 100\n",
      "100 / 100\n",
      "100 / 100\n",
      "100 / 100\n",
      "100 / 100\n",
      "100 / 100\n",
      "100 / 100\n",
      "100 / 100\n",
      "100 / 100\n",
      "100 / 100\n",
      "100 / 100\n",
      "100 / 100\n",
      "100 / 100\n",
      "100 / 100\n",
      "100 / 100\n",
      "100 / 100\n",
      "100 / 100\n",
      "100 / 100\n",
      "100 / 100\n",
      "100 / 100\n",
      "100 / 100\n",
      "100 / 100\n",
      "100 / 100\n",
      "100 / 100\n",
      "100 / 100\n",
      "100 / 100\n",
      "100 / 100\n",
      "100 / 100\n",
      "100 / 100\n",
      "100 / 100\n",
      "100 / 100\n",
      "100 / 100\n",
      "100 / 100\n",
      "100 / 100\n",
      "100 / 100\n",
      "100 / 100\n",
      "100 / 100\n",
      "100 / 100\n",
      "100 / 100\n",
      "100 / 100\n",
      "100 / 100\n",
      "100 / 100\n",
      "100 / 100\n",
      "100 / 100\n",
      "100 / 100\n",
      "100 / 100\n",
      "100 / 100\n",
      "100 / 100\n",
      "100 / 100\n",
      "100 / 100\n",
      "100 / 100\n",
      "100 / 100\n",
      "100 / 100\n",
      "100 / 100\n",
      "100 / 100\n"
     ]
    },
    {
     "data": {
      "text/plain": [
       "1.0"
      ]
     },
     "execution_count": 8,
     "metadata": {},
     "output_type": "execute_result"
    }
   ],
   "source": [
    "recall(output_true, output_true, dist_true, dist_true)"
   ]
  },
  {
   "cell_type": "markdown",
   "metadata": {},
   "source": [
    "generate breakpoints"
   ]
  },
  {
   "cell_type": "code",
   "execution_count": 10,
   "metadata": {},
   "outputs": [
    {
     "name": "stdout",
     "output_type": "stream",
     "text": [
      "Breakpoints for 2 equal parts:\n",
      "Breakpoint 1: z-score = 0.0000\n"
     ]
    },
    {
     "data": {
      "text/plain": [
       "array([0.])"
      ]
     },
     "execution_count": 10,
     "metadata": {},
     "output_type": "execute_result"
    }
   ],
   "source": [
    "split_normal_distribution(2)"
   ]
  },
  {
   "cell_type": "code",
   "execution_count": 11,
   "metadata": {},
   "outputs": [
    {
     "name": "stdout",
     "output_type": "stream",
     "text": [
      "Breakpoints for 3 equal parts:\n",
      "Breakpoint 1: z-score = -0.4307\n",
      "Breakpoint 2: z-score = 0.4307\n"
     ]
    },
    {
     "data": {
      "text/plain": [
       "array([-0.4307273,  0.4307273])"
      ]
     },
     "execution_count": 11,
     "metadata": {},
     "output_type": "execute_result"
    }
   ],
   "source": [
    "split_normal_distribution(3)"
   ]
  },
  {
   "cell_type": "code",
   "execution_count": 12,
   "metadata": {},
   "outputs": [
    {
     "name": "stdout",
     "output_type": "stream",
     "text": [
      "Breakpoints for 8 equal parts:\n",
      "Breakpoint 1: z-score = -1.1503\n",
      "Breakpoint 2: z-score = -0.6745\n",
      "Breakpoint 3: z-score = -0.3186\n",
      "Breakpoint 4: z-score = 0.0000\n",
      "Breakpoint 5: z-score = 0.3186\n",
      "Breakpoint 6: z-score = 0.6745\n",
      "Breakpoint 7: z-score = 1.1503\n"
     ]
    },
    {
     "data": {
      "text/plain": [
       "array([-1.15034938, -0.67448975, -0.31863936,  0.        ,  0.31863936,\n",
       "        0.67448975,  1.15034938])"
      ]
     },
     "execution_count": 12,
     "metadata": {},
     "output_type": "execute_result"
    }
   ],
   "source": [
    "split_normal_distribution(8)"
   ]
  },
  {
   "cell_type": "code",
   "execution_count": 13,
   "metadata": {},
   "outputs": [
    {
     "name": "stdout",
     "output_type": "stream",
     "text": [
      "Breakpoints for 256 equal parts:\n",
      "Breakpoint 1: z-score = -2.6601\n",
      "Breakpoint 2: z-score = -2.4176\n",
      "Breakpoint 3: z-score = -2.2662\n",
      "Breakpoint 4: z-score = -2.1539\n",
      "Breakpoint 5: z-score = -2.0635\n",
      "Breakpoint 6: z-score = -1.9874\n",
      "Breakpoint 7: z-score = -1.9214\n",
      "Breakpoint 8: z-score = -1.8627\n",
      "Breakpoint 9: z-score = -1.8099\n",
      "Breakpoint 10: z-score = -1.7617\n",
      "Breakpoint 11: z-score = -1.7172\n",
      "Breakpoint 12: z-score = -1.6759\n",
      "Breakpoint 13: z-score = -1.6373\n",
      "Breakpoint 14: z-score = -1.6010\n",
      "Breakpoint 15: z-score = -1.5667\n",
      "Breakpoint 16: z-score = -1.5341\n",
      "Breakpoint 17: z-score = -1.5031\n",
      "Breakpoint 18: z-score = -1.4735\n",
      "Breakpoint 19: z-score = -1.4451\n",
      "Breakpoint 20: z-score = -1.4178\n",
      "Breakpoint 21: z-score = -1.3915\n",
      "Breakpoint 22: z-score = -1.3662\n",
      "Breakpoint 23: z-score = -1.3417\n",
      "Breakpoint 24: z-score = -1.3180\n",
      "Breakpoint 25: z-score = -1.2950\n",
      "Breakpoint 26: z-score = -1.2727\n",
      "Breakpoint 27: z-score = -1.2510\n",
      "Breakpoint 28: z-score = -1.2299\n",
      "Breakpoint 29: z-score = -1.2093\n",
      "Breakpoint 30: z-score = -1.1892\n",
      "Breakpoint 31: z-score = -1.1695\n",
      "Breakpoint 32: z-score = -1.1503\n",
      "Breakpoint 33: z-score = -1.1316\n",
      "Breakpoint 34: z-score = -1.1132\n",
      "Breakpoint 35: z-score = -1.0952\n",
      "Breakpoint 36: z-score = -1.0775\n",
      "Breakpoint 37: z-score = -1.0602\n",
      "Breakpoint 38: z-score = -1.0432\n",
      "Breakpoint 39: z-score = -1.0264\n",
      "Breakpoint 40: z-score = -1.0100\n",
      "Breakpoint 41: z-score = -0.9938\n",
      "Breakpoint 42: z-score = -0.9779\n",
      "Breakpoint 43: z-score = -0.9622\n",
      "Breakpoint 44: z-score = -0.9468\n",
      "Breakpoint 45: z-score = -0.9316\n",
      "Breakpoint 46: z-score = -0.9166\n",
      "Breakpoint 47: z-score = -0.9018\n",
      "Breakpoint 48: z-score = -0.8871\n",
      "Breakpoint 49: z-score = -0.8727\n",
      "Breakpoint 50: z-score = -0.8585\n",
      "Breakpoint 51: z-score = -0.8444\n",
      "Breakpoint 52: z-score = -0.8305\n",
      "Breakpoint 53: z-score = -0.8168\n",
      "Breakpoint 54: z-score = -0.8032\n",
      "Breakpoint 55: z-score = -0.7897\n",
      "Breakpoint 56: z-score = -0.7764\n",
      "Breakpoint 57: z-score = -0.7633\n",
      "Breakpoint 58: z-score = -0.7502\n",
      "Breakpoint 59: z-score = -0.7373\n",
      "Breakpoint 60: z-score = -0.7245\n",
      "Breakpoint 61: z-score = -0.7118\n",
      "Breakpoint 62: z-score = -0.6993\n",
      "Breakpoint 63: z-score = -0.6868\n",
      "Breakpoint 64: z-score = -0.6745\n",
      "Breakpoint 65: z-score = -0.6622\n",
      "Breakpoint 66: z-score = -0.6501\n",
      "Breakpoint 67: z-score = -0.6381\n",
      "Breakpoint 68: z-score = -0.6261\n",
      "Breakpoint 69: z-score = -0.6142\n",
      "Breakpoint 70: z-score = -0.6024\n",
      "Breakpoint 71: z-score = -0.5908\n",
      "Breakpoint 72: z-score = -0.5791\n",
      "Breakpoint 73: z-score = -0.5676\n",
      "Breakpoint 74: z-score = -0.5561\n",
      "Breakpoint 75: z-score = -0.5447\n",
      "Breakpoint 76: z-score = -0.5334\n",
      "Breakpoint 77: z-score = -0.5222\n",
      "Breakpoint 78: z-score = -0.5110\n",
      "Breakpoint 79: z-score = -0.4998\n",
      "Breakpoint 80: z-score = -0.4888\n",
      "Breakpoint 81: z-score = -0.4778\n",
      "Breakpoint 82: z-score = -0.4668\n",
      "Breakpoint 83: z-score = -0.4559\n",
      "Breakpoint 84: z-score = -0.4451\n",
      "Breakpoint 85: z-score = -0.4343\n",
      "Breakpoint 86: z-score = -0.4236\n",
      "Breakpoint 87: z-score = -0.4129\n",
      "Breakpoint 88: z-score = -0.4023\n",
      "Breakpoint 89: z-score = -0.3917\n",
      "Breakpoint 90: z-score = -0.3811\n",
      "Breakpoint 91: z-score = -0.3706\n",
      "Breakpoint 92: z-score = -0.3601\n",
      "Breakpoint 93: z-score = -0.3497\n",
      "Breakpoint 94: z-score = -0.3393\n",
      "Breakpoint 95: z-score = -0.3290\n",
      "Breakpoint 96: z-score = -0.3186\n",
      "Breakpoint 97: z-score = -0.3084\n",
      "Breakpoint 98: z-score = -0.2981\n",
      "Breakpoint 99: z-score = -0.2879\n",
      "Breakpoint 100: z-score = -0.2777\n",
      "Breakpoint 101: z-score = -0.2675\n",
      "Breakpoint 102: z-score = -0.2574\n",
      "Breakpoint 103: z-score = -0.2473\n",
      "Breakpoint 104: z-score = -0.2372\n",
      "Breakpoint 105: z-score = -0.2271\n",
      "Breakpoint 106: z-score = -0.2171\n",
      "Breakpoint 107: z-score = -0.2071\n",
      "Breakpoint 108: z-score = -0.1971\n",
      "Breakpoint 109: z-score = -0.1871\n",
      "Breakpoint 110: z-score = -0.1772\n",
      "Breakpoint 111: z-score = -0.1672\n",
      "Breakpoint 112: z-score = -0.1573\n",
      "Breakpoint 113: z-score = -0.1474\n",
      "Breakpoint 114: z-score = -0.1375\n",
      "Breakpoint 115: z-score = -0.1276\n",
      "Breakpoint 116: z-score = -0.1178\n",
      "Breakpoint 117: z-score = -0.1079\n",
      "Breakpoint 118: z-score = -0.0981\n",
      "Breakpoint 119: z-score = -0.0882\n",
      "Breakpoint 120: z-score = -0.0784\n",
      "Breakpoint 121: z-score = -0.0686\n",
      "Breakpoint 122: z-score = -0.0588\n",
      "Breakpoint 123: z-score = -0.0490\n",
      "Breakpoint 124: z-score = -0.0392\n",
      "Breakpoint 125: z-score = -0.0294\n",
      "Breakpoint 126: z-score = -0.0196\n",
      "Breakpoint 127: z-score = -0.0098\n",
      "Breakpoint 128: z-score = 0.0000\n",
      "Breakpoint 129: z-score = 0.0098\n",
      "Breakpoint 130: z-score = 0.0196\n",
      "Breakpoint 131: z-score = 0.0294\n",
      "Breakpoint 132: z-score = 0.0392\n",
      "Breakpoint 133: z-score = 0.0490\n",
      "Breakpoint 134: z-score = 0.0588\n",
      "Breakpoint 135: z-score = 0.0686\n",
      "Breakpoint 136: z-score = 0.0784\n",
      "Breakpoint 137: z-score = 0.0882\n",
      "Breakpoint 138: z-score = 0.0981\n",
      "Breakpoint 139: z-score = 0.1079\n",
      "Breakpoint 140: z-score = 0.1178\n",
      "Breakpoint 141: z-score = 0.1276\n",
      "Breakpoint 142: z-score = 0.1375\n",
      "Breakpoint 143: z-score = 0.1474\n",
      "Breakpoint 144: z-score = 0.1573\n",
      "Breakpoint 145: z-score = 0.1672\n",
      "Breakpoint 146: z-score = 0.1772\n",
      "Breakpoint 147: z-score = 0.1871\n",
      "Breakpoint 148: z-score = 0.1971\n",
      "Breakpoint 149: z-score = 0.2071\n",
      "Breakpoint 150: z-score = 0.2171\n",
      "Breakpoint 151: z-score = 0.2271\n",
      "Breakpoint 152: z-score = 0.2372\n",
      "Breakpoint 153: z-score = 0.2473\n",
      "Breakpoint 154: z-score = 0.2574\n",
      "Breakpoint 155: z-score = 0.2675\n",
      "Breakpoint 156: z-score = 0.2777\n",
      "Breakpoint 157: z-score = 0.2879\n",
      "Breakpoint 158: z-score = 0.2981\n",
      "Breakpoint 159: z-score = 0.3084\n",
      "Breakpoint 160: z-score = 0.3186\n",
      "Breakpoint 161: z-score = 0.3290\n",
      "Breakpoint 162: z-score = 0.3393\n",
      "Breakpoint 163: z-score = 0.3497\n",
      "Breakpoint 164: z-score = 0.3601\n",
      "Breakpoint 165: z-score = 0.3706\n",
      "Breakpoint 166: z-score = 0.3811\n",
      "Breakpoint 167: z-score = 0.3917\n",
      "Breakpoint 168: z-score = 0.4023\n",
      "Breakpoint 169: z-score = 0.4129\n",
      "Breakpoint 170: z-score = 0.4236\n",
      "Breakpoint 171: z-score = 0.4343\n",
      "Breakpoint 172: z-score = 0.4451\n",
      "Breakpoint 173: z-score = 0.4559\n",
      "Breakpoint 174: z-score = 0.4668\n",
      "Breakpoint 175: z-score = 0.4778\n",
      "Breakpoint 176: z-score = 0.4888\n",
      "Breakpoint 177: z-score = 0.4998\n",
      "Breakpoint 178: z-score = 0.5110\n",
      "Breakpoint 179: z-score = 0.5222\n",
      "Breakpoint 180: z-score = 0.5334\n",
      "Breakpoint 181: z-score = 0.5447\n",
      "Breakpoint 182: z-score = 0.5561\n",
      "Breakpoint 183: z-score = 0.5676\n",
      "Breakpoint 184: z-score = 0.5791\n",
      "Breakpoint 185: z-score = 0.5908\n",
      "Breakpoint 186: z-score = 0.6024\n",
      "Breakpoint 187: z-score = 0.6142\n",
      "Breakpoint 188: z-score = 0.6261\n",
      "Breakpoint 189: z-score = 0.6381\n",
      "Breakpoint 190: z-score = 0.6501\n",
      "Breakpoint 191: z-score = 0.6622\n",
      "Breakpoint 192: z-score = 0.6745\n",
      "Breakpoint 193: z-score = 0.6868\n",
      "Breakpoint 194: z-score = 0.6993\n",
      "Breakpoint 195: z-score = 0.7118\n",
      "Breakpoint 196: z-score = 0.7245\n",
      "Breakpoint 197: z-score = 0.7373\n",
      "Breakpoint 198: z-score = 0.7502\n",
      "Breakpoint 199: z-score = 0.7633\n",
      "Breakpoint 200: z-score = 0.7764\n",
      "Breakpoint 201: z-score = 0.7897\n",
      "Breakpoint 202: z-score = 0.8032\n",
      "Breakpoint 203: z-score = 0.8168\n",
      "Breakpoint 204: z-score = 0.8305\n",
      "Breakpoint 205: z-score = 0.8444\n",
      "Breakpoint 206: z-score = 0.8585\n",
      "Breakpoint 207: z-score = 0.8727\n",
      "Breakpoint 208: z-score = 0.8871\n",
      "Breakpoint 209: z-score = 0.9018\n",
      "Breakpoint 210: z-score = 0.9166\n",
      "Breakpoint 211: z-score = 0.9316\n",
      "Breakpoint 212: z-score = 0.9468\n",
      "Breakpoint 213: z-score = 0.9622\n",
      "Breakpoint 214: z-score = 0.9779\n",
      "Breakpoint 215: z-score = 0.9938\n",
      "Breakpoint 216: z-score = 1.0100\n",
      "Breakpoint 217: z-score = 1.0264\n",
      "Breakpoint 218: z-score = 1.0432\n",
      "Breakpoint 219: z-score = 1.0602\n",
      "Breakpoint 220: z-score = 1.0775\n",
      "Breakpoint 221: z-score = 1.0952\n",
      "Breakpoint 222: z-score = 1.1132\n",
      "Breakpoint 223: z-score = 1.1316\n",
      "Breakpoint 224: z-score = 1.1503\n",
      "Breakpoint 225: z-score = 1.1695\n",
      "Breakpoint 226: z-score = 1.1892\n",
      "Breakpoint 227: z-score = 1.2093\n",
      "Breakpoint 228: z-score = 1.2299\n",
      "Breakpoint 229: z-score = 1.2510\n",
      "Breakpoint 230: z-score = 1.2727\n",
      "Breakpoint 231: z-score = 1.2950\n",
      "Breakpoint 232: z-score = 1.3180\n",
      "Breakpoint 233: z-score = 1.3417\n",
      "Breakpoint 234: z-score = 1.3662\n",
      "Breakpoint 235: z-score = 1.3915\n",
      "Breakpoint 236: z-score = 1.4178\n",
      "Breakpoint 237: z-score = 1.4451\n",
      "Breakpoint 238: z-score = 1.4735\n",
      "Breakpoint 239: z-score = 1.5031\n",
      "Breakpoint 240: z-score = 1.5341\n",
      "Breakpoint 241: z-score = 1.5667\n",
      "Breakpoint 242: z-score = 1.6010\n",
      "Breakpoint 243: z-score = 1.6373\n",
      "Breakpoint 244: z-score = 1.6759\n",
      "Breakpoint 245: z-score = 1.7172\n",
      "Breakpoint 246: z-score = 1.7617\n",
      "Breakpoint 247: z-score = 1.8099\n",
      "Breakpoint 248: z-score = 1.8627\n",
      "Breakpoint 249: z-score = 1.9214\n",
      "Breakpoint 250: z-score = 1.9874\n",
      "Breakpoint 251: z-score = 2.0635\n",
      "Breakpoint 252: z-score = 2.1539\n",
      "Breakpoint 253: z-score = 2.2662\n",
      "Breakpoint 254: z-score = 2.4176\n",
      "Breakpoint 255: z-score = 2.6601\n"
     ]
    },
    {
     "data": {
      "text/plain": [
       "array([-2.66006747, -2.41755902, -2.26622681, -2.15387469, -2.0635279 ,\n",
       "       -1.98742789, -1.92135077, -1.86273187, -1.80989224, -1.76167041,\n",
       "       -1.71722812, -1.67593972, -1.63732538, -1.60100866, -1.56668859,\n",
       "       -1.53412054, -1.50310294, -1.47346758, -1.44507258, -1.41779714,\n",
       "       -1.39153749, -1.36620382, -1.34171784, -1.3180109 , -1.29502241,\n",
       "       -1.27269864, -1.25099172, -1.22985876, -1.20926123, -1.18916435,\n",
       "       -1.16953661, -1.15034938, -1.13157656, -1.11319428, -1.09518065,\n",
       "       -1.07751557, -1.06018048, -1.04315826, -1.02643306, -1.00999017,\n",
       "       -0.99381591, -0.97789754, -0.9622232 , -0.94678176, -0.93156283,\n",
       "       -0.91655667, -0.90175411, -0.88714656, -0.87272589, -0.85848447,\n",
       "       -0.84441508, -0.83051088, -0.81676542, -0.80317257, -0.78972652,\n",
       "       -0.77642176, -0.76325304, -0.75021538, -0.737304  , -0.72451438,\n",
       "       -0.7118422 , -0.6992833 , -0.68683375, -0.67448975, -0.66224768,\n",
       "       -0.65010407, -0.63805558, -0.62609901, -0.61423129, -0.60244945,\n",
       "       -0.59075066, -0.57913216, -0.56759132, -0.55612559, -0.54473251,\n",
       "       -0.53340971, -0.52215488, -0.51096581, -0.49984034, -0.48877641,\n",
       "       -0.47777199, -0.46682512, -0.45593392, -0.44509652, -0.43431116,\n",
       "       -0.42357608, -0.4128896 , -0.40225007, -0.39165587, -0.38110545,\n",
       "       -0.37059729, -0.36012989, -0.3497018 , -0.33931161, -0.32895791,\n",
       "       -0.31863936, -0.30835463, -0.29810241, -0.28788143, -0.27769044,\n",
       "       -0.26752821, -0.25739353, -0.24728522, -0.23720211, -0.22714306,\n",
       "       -0.21710695, -0.20709265, -0.19709908, -0.18712516, -0.17716982,\n",
       "       -0.16723201, -0.15731068, -0.14740482, -0.1375134 , -0.12763542,\n",
       "       -0.11776987, -0.10791578, -0.09807215, -0.08823802, -0.07841241,\n",
       "       -0.06859437, -0.05878294, -0.04897716, -0.03917609, -0.02937878,\n",
       "       -0.01958429, -0.00979167,  0.        ,  0.00979167,  0.01958429,\n",
       "        0.02937878,  0.03917609,  0.04897716,  0.05878294,  0.06859437,\n",
       "        0.07841241,  0.08823802,  0.09807215,  0.10791578,  0.11776987,\n",
       "        0.12763542,  0.1375134 ,  0.14740482,  0.15731068,  0.16723201,\n",
       "        0.17716982,  0.18712516,  0.19709908,  0.20709265,  0.21710695,\n",
       "        0.22714306,  0.23720211,  0.24728522,  0.25739353,  0.26752821,\n",
       "        0.27769044,  0.28788143,  0.29810241,  0.30835463,  0.31863936,\n",
       "        0.32895791,  0.33931161,  0.3497018 ,  0.36012989,  0.37059729,\n",
       "        0.38110545,  0.39165587,  0.40225007,  0.4128896 ,  0.42357608,\n",
       "        0.43431116,  0.44509652,  0.45593392,  0.46682512,  0.47777199,\n",
       "        0.48877641,  0.49984034,  0.51096581,  0.52215488,  0.53340971,\n",
       "        0.54473251,  0.55612559,  0.56759132,  0.57913216,  0.59075066,\n",
       "        0.60244945,  0.61423129,  0.62609901,  0.63805558,  0.65010407,\n",
       "        0.66224768,  0.67448975,  0.68683375,  0.6992833 ,  0.7118422 ,\n",
       "        0.72451438,  0.737304  ,  0.75021538,  0.76325304,  0.77642176,\n",
       "        0.78972652,  0.80317257,  0.81676542,  0.83051088,  0.84441508,\n",
       "        0.85848447,  0.87272589,  0.88714656,  0.90175411,  0.91655667,\n",
       "        0.93156283,  0.94678176,  0.9622232 ,  0.97789754,  0.99381591,\n",
       "        1.00999017,  1.02643306,  1.04315826,  1.06018048,  1.07751557,\n",
       "        1.09518065,  1.11319428,  1.13157656,  1.15034938,  1.16953661,\n",
       "        1.18916435,  1.20926123,  1.22985876,  1.25099172,  1.27269864,\n",
       "        1.29502241,  1.3180109 ,  1.34171784,  1.36620382,  1.39153749,\n",
       "        1.41779714,  1.44507258,  1.47346758,  1.50310294,  1.53412054,\n",
       "        1.56668859,  1.60100866,  1.63732538,  1.67593972,  1.71722812,\n",
       "        1.76167041,  1.80989224,  1.86273187,  1.92135077,  1.98742789,\n",
       "        2.0635279 ,  2.15387469,  2.26622681,  2.41755902,  2.66006747])"
      ]
     },
     "execution_count": 13,
     "metadata": {},
     "output_type": "execute_result"
    }
   ],
   "source": [
    "split_normal_distribution(256)"
   ]
  },
  {
   "cell_type": "code",
   "execution_count": null,
   "metadata": {},
   "outputs": [],
   "source": []
  }
 ],
 "metadata": {
  "kernelspec": {
   "display_name": "Python 3",
   "language": "python",
   "name": "python3"
  },
  "language_info": {
   "codemirror_mode": {
    "name": "ipython",
    "version": 3
   },
   "file_extension": ".py",
   "mimetype": "text/x-python",
   "name": "python",
   "nbconvert_exporter": "python",
   "pygments_lexer": "ipython3",
   "version": "3.10.12"
  }
 },
 "nbformat": 4,
 "nbformat_minor": 2
}
