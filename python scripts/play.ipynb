{
 "cells": [
  {
   "cell_type": "code",
   "execution_count": 1,
   "metadata": {},
   "outputs": [],
   "source": [
    "import numpy as np\n",
    "from tqdm import tqdm\n",
    "from utils import read_data, read_query, read_output, knn, distances, split_normal_distribution, _recall, recall"
   ]
  },
  {
   "cell_type": "code",
   "execution_count": 2,
   "metadata": {},
   "outputs": [],
   "source": [
    "#data_path = '../data/dummy-data.bin'\n",
    "#query_path = '../data/dummy-queries.bin'\n",
    "\n",
    "\n",
    "# output_path_1 = '../data/dummy-output-seqscan.bin'\n",
    "#output_path_2 = '../data/dummy-output-seqscanrange.bin'\n",
    "# output_path_2 = '../data/dummy-output-seqscanrangemt.bin'"
   ]
  },
  {
   "cell_type": "code",
   "execution_count": 3,
   "metadata": {},
   "outputs": [],
   "source": [
    "data_path = '../data/contest-data-release-1m.bin'\n",
    "query_path = '../data/contest-queries-release-1m.bin'\n",
    "\n",
    "output_path_1 = '../data/relsmall-normal.bin'\n",
    "output_path_2 = '../data/relsmall-normal-range.bin'"
   ]
  },
  {
   "cell_type": "code",
   "execution_count": 4,
   "metadata": {},
   "outputs": [
    {
     "name": "stdout",
     "output_type": "stream",
     "text": [
      "==========\n",
      "data shape (1000000, 102)\n",
      "query shape (10000, 104)\n",
      "==========\n",
      "output1 shape (10000, 100)\n",
      "output2 shape (10000, 100)\n",
      "==== KNN ====\n"
     ]
    },
    {
     "name": "stderr",
     "output_type": "stream",
     "text": [
      "  9%|▉         | 909/10000 [16:02<2:40:21,  1.06s/it]\n"
     ]
    },
    {
     "ename": "KeyboardInterrupt",
     "evalue": "",
     "output_type": "error",
     "traceback": [
      "\u001b[0;31m---------------------------------------------------------------------------\u001b[0m",
      "\u001b[0;31mKeyboardInterrupt\u001b[0m                         Traceback (most recent call last)",
      "Cell \u001b[0;32mIn[4], line 18\u001b[0m\n\u001b[1;32m     14\u001b[0m \u001b[38;5;28mprint\u001b[39m(\u001b[38;5;124m\"\u001b[39m\u001b[38;5;124m=\u001b[39m\u001b[38;5;124m\"\u001b[39m\u001b[38;5;241m*\u001b[39m\u001b[38;5;241m4\u001b[39m,\u001b[38;5;124m\"\u001b[39m\u001b[38;5;124mKNN\u001b[39m\u001b[38;5;124m\"\u001b[39m,\u001b[38;5;124m\"\u001b[39m\u001b[38;5;124m=\u001b[39m\u001b[38;5;124m\"\u001b[39m\u001b[38;5;241m*\u001b[39m\u001b[38;5;241m4\u001b[39m)\n\u001b[1;32m     17\u001b[0m \u001b[38;5;66;03m# True knn\u001b[39;00m\n\u001b[0;32m---> 18\u001b[0m output_true, dist_true \u001b[38;5;241m=\u001b[39m \u001b[43mknn\u001b[49m\u001b[43m(\u001b[49m\u001b[43mdata\u001b[49m\u001b[43m,\u001b[49m\u001b[43m \u001b[49m\u001b[43mquery\u001b[49m\u001b[43m,\u001b[49m\u001b[43m \u001b[49m\u001b[38;5;241;43m100\u001b[39;49m\u001b[43m)\u001b[49m\n\u001b[1;32m     19\u001b[0m \u001b[38;5;66;03m#dist_output1 = distances(output1, dist)\u001b[39;00m\n\u001b[1;32m     20\u001b[0m \u001b[38;5;66;03m#dist_output2 = distances(output2, dist)\u001b[39;00m\n\u001b[1;32m     22\u001b[0m \u001b[38;5;28mprint\u001b[39m(\u001b[38;5;124m\"\u001b[39m\u001b[38;5;124m=\u001b[39m\u001b[38;5;124m\"\u001b[39m\u001b[38;5;241m*\u001b[39m\u001b[38;5;241m10\u001b[39m)\n",
      "File \u001b[0;32m~/ter/python scripts/utils.py:87\u001b[0m, in \u001b[0;36mknn\u001b[0;34m(data, query, k)\u001b[0m\n\u001b[1;32m     84\u001b[0m \u001b[38;5;28;01mif\u001b[39;00m query_type \u001b[38;5;241m==\u001b[39m \u001b[38;5;241m0\u001b[39m: \u001b[38;5;66;03m# normal query     \u001b[39;00m\n\u001b[1;32m     85\u001b[0m     \u001b[38;5;28;01mfor\u001b[39;00m j \u001b[38;5;129;01min\u001b[39;00m \u001b[38;5;28mrange\u001b[39m(n):      \n\u001b[1;32m     86\u001b[0m         \u001b[38;5;66;03m# euclidean distance\u001b[39;00m\n\u001b[0;32m---> 87\u001b[0m         dist[j] \u001b[38;5;241m=\u001b[39m \u001b[43mnp\u001b[49m\u001b[38;5;241;43m.\u001b[39;49m\u001b[43mlinalg\u001b[49m\u001b[38;5;241;43m.\u001b[39;49m\u001b[43mnorm\u001b[49m\u001b[43m(\u001b[49m\u001b[43mdata\u001b[49m\u001b[43m[\u001b[49m\u001b[43mj\u001b[49m\u001b[43m,\u001b[49m\u001b[43m \u001b[49m\u001b[38;5;241;43m2\u001b[39;49m\u001b[43m:\u001b[49m\u001b[43m]\u001b[49m\u001b[43m \u001b[49m\u001b[38;5;241;43m-\u001b[39;49m\u001b[43m \u001b[49m\u001b[43mquery_point\u001b[49m\u001b[43m)\u001b[49m\n\u001b[1;32m     89\u001b[0m \u001b[38;5;28;01melif\u001b[39;00m query_type \u001b[38;5;241m==\u001b[39m \u001b[38;5;241m1\u001b[39m: \u001b[38;5;66;03m# class query\u001b[39;00m\n\u001b[1;32m     90\u001b[0m     \u001b[38;5;28;01mfor\u001b[39;00m j \u001b[38;5;129;01min\u001b[39;00m \u001b[38;5;28mrange\u001b[39m(n):\n",
      "File \u001b[0;32m~/ter/venv/lib/python3.10/site-packages/numpy/linalg/linalg.py:2379\u001b[0m, in \u001b[0;36m_norm_dispatcher\u001b[0;34m(x, ord, axis, keepdims)\u001b[0m\n\u001b[1;32m   2375\u001b[0m     result \u001b[38;5;241m=\u001b[39m op(svd(y, compute_uv\u001b[38;5;241m=\u001b[39m\u001b[38;5;28;01mFalse\u001b[39;00m), axis\u001b[38;5;241m=\u001b[39m\u001b[38;5;241m-\u001b[39m\u001b[38;5;241m1\u001b[39m)\n\u001b[1;32m   2376\u001b[0m     \u001b[38;5;28;01mreturn\u001b[39;00m result\n\u001b[0;32m-> 2379\u001b[0m \u001b[38;5;28;01mdef\u001b[39;00m \u001b[38;5;21m_norm_dispatcher\u001b[39m(x, \u001b[38;5;28mord\u001b[39m\u001b[38;5;241m=\u001b[39m\u001b[38;5;28;01mNone\u001b[39;00m, axis\u001b[38;5;241m=\u001b[39m\u001b[38;5;28;01mNone\u001b[39;00m, keepdims\u001b[38;5;241m=\u001b[39m\u001b[38;5;28;01mNone\u001b[39;00m):\n\u001b[1;32m   2380\u001b[0m     \u001b[38;5;28;01mreturn\u001b[39;00m (x,)\n\u001b[1;32m   2383\u001b[0m \u001b[38;5;129m@array_function_dispatch\u001b[39m(_norm_dispatcher)\n\u001b[1;32m   2384\u001b[0m \u001b[38;5;28;01mdef\u001b[39;00m \u001b[38;5;21mnorm\u001b[39m(x, \u001b[38;5;28mord\u001b[39m\u001b[38;5;241m=\u001b[39m\u001b[38;5;28;01mNone\u001b[39;00m, axis\u001b[38;5;241m=\u001b[39m\u001b[38;5;28;01mNone\u001b[39;00m, keepdims\u001b[38;5;241m=\u001b[39m\u001b[38;5;28;01mFalse\u001b[39;00m):\n",
      "\u001b[0;31mKeyboardInterrupt\u001b[0m: "
     ]
    }
   ],
   "source": [
    "# read data, query and output1, output2\n",
    "data = read_data(data_path)\n",
    "query = read_query(query_path) \n",
    "output1 = read_output(output_path_1, query.shape[0])\n",
    "output2 = read_output(output_path_2, query.shape[0])\n",
    "# calculate distances of outputs\n",
    "\n",
    "print(\"=\"*10)\n",
    "print(\"data shape\", data.shape)\n",
    "print(\"query shape\", query.shape)\n",
    "print(\"=\"*10)\n",
    "print(\"output1 shape\", output1.shape)\n",
    "print(\"output2 shape\", output2.shape)\n",
    "print(\"=\"*4,\"KNN\",\"=\"*4)\n",
    "\n",
    "\n",
    "# True knn\n",
    "output_true, dist_true = knn(data, query, 100)\n",
    "#dist_output1 = distances(output1, dist)\n",
    "#dist_output2 = distances(output2, dist)\n",
    "\n",
    "print(\"=\"*10)\n",
    "print(\"output_true shape\", output_true.shape)\n",
    "print(\"dist_true shape\", dist_true.shape)\n",
    "print(\"=\"*10)\n",
    "\n",
    "\n"
   ]
  },
  {
   "cell_type": "markdown",
   "metadata": {},
   "source": [
    "testing _recall_"
   ]
  },
  {
   "cell_type": "code",
   "execution_count": 22,
   "metadata": {},
   "outputs": [
    {
     "data": {
      "text/plain": [
       "1.0"
      ]
     },
     "execution_count": 22,
     "metadata": {},
     "output_type": "execute_result"
    }
   ],
   "source": [
    "rec, _  = recall(output_true, output1, dist_true, dist_output1, verbose=False)\n",
    "rec "
   ]
  },
  {
   "cell_type": "code",
   "execution_count": 23,
   "metadata": {},
   "outputs": [
    {
     "data": {
      "text/plain": [
       "1.0"
      ]
     },
     "execution_count": 23,
     "metadata": {},
     "output_type": "execute_result"
    }
   ],
   "source": [
    "rec, _ = recall(output_true, output2, dist_true, dist_output2, verbose=False)\n",
    "rec "
   ]
  },
  {
   "cell_type": "markdown",
   "metadata": {},
   "source": [
    "### generate breakpoints"
   ]
  },
  {
   "cell_type": "code",
   "execution_count": 2,
   "metadata": {},
   "outputs": [
    {
     "name": "stdout",
     "output_type": "stream",
     "text": [
      "Breakpoints for 2 equal parts:\n",
      "Breakpoint 1: z-score = 0.0000\n"
     ]
    },
    {
     "data": {
      "text/plain": [
       "array([0.])"
      ]
     },
     "execution_count": 2,
     "metadata": {},
     "output_type": "execute_result"
    }
   ],
   "source": [
    "split_normal_distribution(2, verbose=True)"
   ]
  },
  {
   "cell_type": "code",
   "execution_count": 3,
   "metadata": {},
   "outputs": [
    {
     "name": "stdout",
     "output_type": "stream",
     "text": [
      "Breakpoints for 3 equal parts:\n",
      "Breakpoint 1: z-score = -0.4307\n",
      "Breakpoint 2: z-score = 0.4307\n"
     ]
    },
    {
     "data": {
      "text/plain": [
       "array([-0.4307273,  0.4307273])"
      ]
     },
     "execution_count": 3,
     "metadata": {},
     "output_type": "execute_result"
    }
   ],
   "source": [
    "split_normal_distribution(3, verbose=True)"
   ]
  },
  {
   "cell_type": "code",
   "execution_count": 4,
   "metadata": {},
   "outputs": [
    {
     "name": "stdout",
     "output_type": "stream",
     "text": [
      "Breakpoints for 8 equal parts:\n",
      "Breakpoint 1: z-score = -1.1503\n",
      "Breakpoint 2: z-score = -0.6745\n",
      "Breakpoint 3: z-score = -0.3186\n",
      "Breakpoint 4: z-score = 0.0000\n",
      "Breakpoint 5: z-score = 0.3186\n",
      "Breakpoint 6: z-score = 0.6745\n",
      "Breakpoint 7: z-score = 1.1503\n"
     ]
    },
    {
     "data": {
      "text/plain": [
       "array([-1.15034938, -0.67448975, -0.31863936,  0.        ,  0.31863936,\n",
       "        0.67448975,  1.15034938])"
      ]
     },
     "execution_count": 4,
     "metadata": {},
     "output_type": "execute_result"
    }
   ],
   "source": [
    "split_normal_distribution(8, verbose=True)"
   ]
  },
  {
   "cell_type": "code",
   "execution_count": 10,
   "metadata": {},
   "outputs": [
    {
     "name": "stderr",
     "output_type": "stream",
     "text": [
      "100%|██████████| 9/9 [00:00<00:00, 2525.51it/s]\n"
     ]
    }
   ],
   "source": [
    "n_breaks = [2, 3, 8, 16, 32, 64, 128, 256, 512]\n",
    "\n",
    "# open file\n",
    "f = open(\"breakpoints.cpp\", \"w\")\n",
    "for n_breaks in tqdm(n_breaks):\n",
    "    breaks = split_normal_distribution(n_breaks)\n",
    "    # write to file\n",
    "    f.write(\"const float BREAK_POINTS_\" + str(n_breaks) + \"[] = {\")\n",
    "    for i in range(len(breaks)):\n",
    "        f.write(str(breaks[i]) + \",\")\n",
    "        \n",
    "    f.write(\"};\\n\")\n",
    "f.close()"
   ]
  },
  {
   "cell_type": "markdown",
   "metadata": {},
   "source": [
    "### testing __'_recall'__ : simple recall between two 1D vectors "
   ]
  },
  {
   "cell_type": "code",
   "execution_count": 11,
   "metadata": {},
   "outputs": [
    {
     "data": {
      "text/plain": [
       "0.75"
      ]
     },
     "execution_count": 11,
     "metadata": {},
     "output_type": "execute_result"
    }
   ],
   "source": [
    "a = np.array([5,10,20,30,np.inf])\n",
    "a_idx = np.array([0,1,2,3,5])\n",
    "\n",
    "b = np.array([10,20,30,40,40])\n",
    "b_idx = np.array([1,2,3,4,4])\n",
    "\n",
    "# replace inf with max value and return the index of the max value\n",
    "a[a == np.inf] = np.max(a[np.isfinite(a)])\n",
    "a.argmax()\n",
    "\n",
    "\n",
    "_recall(a_idx,b_idx,a,b)\n"
   ]
  },
  {
   "cell_type": "code",
   "execution_count": 12,
   "metadata": {},
   "outputs": [
    {
     "data": {
      "text/plain": [
       "0.8"
      ]
     },
     "execution_count": 12,
     "metadata": {},
     "output_type": "execute_result"
    }
   ],
   "source": [
    "a = np.array([5,10,20,30,40])\n",
    "a_idx = np.array([0,1,2,3,5])\n",
    "\n",
    "b = np.array([10,20,30,40,40])\n",
    "b_idx = np.array([1,2,3,4,4])\n",
    "\n",
    "# replace inf with max value and return the index of the max value\n",
    "a[a == np.inf] = np.max(a[np.isfinite(a)])\n",
    "a.argmax()\n",
    "\n",
    "\n",
    "_recall(a_idx,b_idx,a,b)"
   ]
  },
  {
   "cell_type": "code",
   "execution_count": 13,
   "metadata": {},
   "outputs": [
    {
     "data": {
      "text/plain": [
       "0.8"
      ]
     },
     "execution_count": 13,
     "metadata": {},
     "output_type": "execute_result"
    }
   ],
   "source": [
    "a = np.array([5,10,20,30,35])\n",
    "a_idx = np.array([0,1,2,3,5])\n",
    "\n",
    "b = np.array([5,10,20,30,40])\n",
    "b_idx = np.array([0,1,2,3,6])\n",
    "\n",
    "# replace inf with max value and return the index of the max value\n",
    "a[a == np.inf] = np.max(a[np.isfinite(a)])\n",
    "a.argmax()\n",
    "\n",
    "\n",
    "_recall(a_idx,b_idx,a,b)"
   ]
  }
 ],
 "metadata": {
  "kernelspec": {
   "display_name": "Python 3",
   "language": "python",
   "name": "python3"
  },
  "language_info": {
   "codemirror_mode": {
    "name": "ipython",
    "version": 3
   },
   "file_extension": ".py",
   "mimetype": "text/x-python",
   "name": "python",
   "nbconvert_exporter": "python",
   "pygments_lexer": "ipython3",
   "version": "3.10.12"
  }
 },
 "nbformat": 4,
 "nbformat_minor": 2
}
